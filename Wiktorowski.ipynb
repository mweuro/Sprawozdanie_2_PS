{
 "cells": [
  {
   "cell_type": "code",
   "execution_count": null,
   "metadata": {
    "vscode": {
     "languageId": "r"
    }
   },
   "outputs": [],
   "source": []
  }
 ],
 "metadata": {
  "kernelspec": {
   "display_name": "R",
   "language": "R",
   "name": "ir"
  },
  "language_info": {
   "codemirror_mode": "r",
   "file_extension": ".r",
   "mimetype": "text/x-r-source",
   "name": "R",
   "pygments_lexer": "r",
   "version": "4.1.2"
  },
  "vscode": {
   "interpreter": {
    "hash": "72bfc691e125b99acbc6d80c2190d4963aecde9ca99ebcb34dfd45ffa5b3f8fc"
   }
  }
 },
 "nbformat": 4,
 "nbformat_minor": 2
}
